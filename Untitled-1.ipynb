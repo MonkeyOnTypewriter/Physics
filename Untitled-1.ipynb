{
 "cells": [
  {
   "cell_type": "code",
   "execution_count": 60,
   "metadata": {},
   "outputs": [],
   "source": [
    "from sympy.interactive.printing import init_printing\n",
    "from sympy import Matrix, I, tensorproduct, N"
   ]
  },
  {
   "cell_type": "code",
   "execution_count": 41,
   "metadata": {},
   "outputs": [],
   "source": [
    "init_printing(use_unicode=False, wrap_line=False)"
   ]
  },
  {
   "cell_type": "code",
   "execution_count": 42,
   "metadata": {},
   "outputs": [],
   "source": [
    "s0 = Matrix([1+1*I,0,1])\n",
    "s0 = s0/s0.norm()\n",
    "\n",
    "s0c  = s0.applyfunc(lambda x: x.conjugate())\n",
    "\n",
    "D0 = tensorproduct(s0c, s0).reshape(3,3)\n",
    "D0 = Matrix(D0)"
   ]
  },
  {
   "cell_type": "code",
   "execution_count": 55,
   "metadata": {},
   "outputs": [],
   "source": [
    "H0 = Matrix([[1,0,2],\n",
    "             [0,3,0],\n",
    "             [2,0,1]])\n",
    "eigeninfo = H0.eigenvects()\n",
    "\n",
    "eigenvectors=[]\n",
    "for eigen in eigeninfo:\n",
    "    eigenvectors = eigenvectors + [eigen[2][i] for i in range(len(eigen[2]))]\n",
    "U = Matrix([eigenvectors])\n",
    "Ut = U.inv()\n"
   ]
  },
  {
   "cell_type": "code",
   "execution_count": 56,
   "metadata": {},
   "outputs": [],
   "source": [
    "D0_H = Ut * D0 * U\n",
    "s0_H = Ut * s0\n",
    "s0_Hc = s0_H.applyfunc(lambda x: x.conjugate())\n",
    "D = tensorproduct(s0_Hc, s0_H).reshape(3,3)"
   ]
  },
  {
   "cell_type": "code",
   "execution_count": 62,
   "metadata": {},
   "outputs": [],
   "source": [
    "import numpy as np"
   ]
  },
  {
   "cell_type": "code",
   "execution_count": 66,
   "metadata": {},
   "outputs": [
    {
     "data": {
      "text/plain": [
       "array([[ 0.08333333+0.j        ,  0.        +0.j        ,\n",
       "        -0.08333333+0.16666667j],\n",
       "       [ 0.        +0.j        ,  0.        +0.j        ,\n",
       "         0.        +0.j        ],\n",
       "       [-0.08333333-0.16666667j,  0.        +0.j        ,\n",
       "         0.41666667+0.j        ]])"
      ]
     },
     "execution_count": 66,
     "metadata": {},
     "output_type": "execute_result"
    }
   ],
   "source": [
    "np.array(D.applyfunc(N), dtype=np.cdouble)"
   ]
  },
  {
   "cell_type": "code",
   "execution_count": 67,
   "metadata": {},
   "outputs": [
    {
     "data": {
      "text/plain": [
       "array([[ 0.16666667+0.j        ,  0.        +0.j        ,\n",
       "        -0.16666667+0.33333333j],\n",
       "       [ 0.        +0.j        ,  0.        +0.j        ,\n",
       "         0.        +0.j        ],\n",
       "       [-0.16666667-0.33333333j,  0.        +0.j        ,\n",
       "         0.83333333+0.j        ]])"
      ]
     },
     "execution_count": 67,
     "metadata": {},
     "output_type": "execute_result"
    }
   ],
   "source": [
    "np.array(D0_H.applyfunc(N), dtype=np.cdouble)"
   ]
  },
  {
   "cell_type": "code",
   "execution_count": null,
   "metadata": {},
   "outputs": [],
   "source": []
  }
 ],
 "metadata": {
  "kernelspec": {
   "display_name": "sci",
   "language": "python",
   "name": "python3"
  },
  "language_info": {
   "codemirror_mode": {
    "name": "ipython",
    "version": 3
   },
   "file_extension": ".py",
   "mimetype": "text/x-python",
   "name": "python",
   "nbconvert_exporter": "python",
   "pygments_lexer": "ipython3",
   "version": "3.11.4"
  },
  "orig_nbformat": 4
 },
 "nbformat": 4,
 "nbformat_minor": 2
}
