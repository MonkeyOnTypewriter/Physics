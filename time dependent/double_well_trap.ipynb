{
 "cells": [
  {
   "cell_type": "code",
   "execution_count": 2,
   "metadata": {},
   "outputs": [],
   "source": [
    "import numpy as np\n",
    "from matplotlib import pyplot as plt"
   ]
  },
  {
   "cell_type": "code",
   "execution_count": 3,
   "metadata": {},
   "outputs": [],
   "source": [
    "N = 100\n",
    "\n",
    "#set x\n",
    "x = np.linspace(-6,6,num=N)\n",
    "dx = x[1]-x[0]\n",
    "\n",
    "l=.005\n",
    "a=3\n",
    "\n",
    "#calculate hamiltonian and eigenvectors\n",
    "V = l*(x**2-a**2)**2\n",
    "H = (-1/(2*dx**2))*(-2*np.diag(np.ones(N)) + np.diag(np.ones(N-1), 1) + np.diag(np.ones(N-1), -1)) + np.diag(V)\n",
    "e, eigv = np.linalg.eigh(H)\n",
    "eigv = eigv.T"
   ]
  },
  {
   "cell_type": "code",
   "execution_count": 138,
   "metadata": {},
   "outputs": [
    {
     "data": {
      "text/plain": [
       "(-1.5, 2.0)"
      ]
     },
     "execution_count": 138,
     "metadata": {},
     "output_type": "execute_result"
    },
    {
     "data": {
      "image/png": "[encoded data removed]",
      "text/plain": [
       "<Figure size 640x480 with 1 Axes>"
      ]
     },
     "metadata": {},
     "output_type": "display_data"
    }
   ],
   "source": [
    "plt.plot(x,V)\n",
    "plt.ylim(-1.5,2)"
   ]
  },
  {
   "cell_type": "code",
   "execution_count": 4,
   "metadata": {},
   "outputs": [],
   "source": [
    "#trap rule\n",
    "dt = .001\n",
    "time = 100\n",
    "steps = int(time/dt)\n",
    "\n",
    "\n",
    "data = np.zeros([steps, N], dtype=np.complex128)\n",
    "\n",
    "\n",
    "# set and normalize initial state\n",
    "state = eigv[0]\n",
    "state = state / np.sqrt(np.sum((np.square(state.real)+np.square(state.imag))*dx))\n",
    "data[0] = state\n",
    "\n",
    "#setting the perturbation\n",
    "#center b, width 2c, and height d\n",
    "b = -3\n",
    "c = .2\n",
    "d = .12\n",
    "\n",
    "pert = d*np.exp(-1*(x-b)**2/(2*c**2))\n",
    "\n",
    "\n",
    "#for i, val in enumerate(x):\n",
    "#    if np.abs(val - b) > c:\n",
    "#        pert[i] = 0\n",
    "\n",
    "T = steps//5\n",
    "\n",
    "\n",
    "\n",
    "for i, state in enumerate(data[1:]):\n",
    "    if i <= T:\n",
    "        strength = np.sin(np.pi*i/(2*T))\n",
    "    V = l*(x**2-a**2)**2 + strength*pert\n",
    "    H = (-1/(2*dx**2))*(-2*np.diag(np.ones(N)) + np.diag(np.ones(N-1), 1) + np.diag(np.ones(N-1), -1)) + np.diag(V)\n",
    "    B = np.eye(N) - 1j*dt/2*H\n",
    "    A = np.linalg.inv(np.eye(N) + 1j*dt/2*H)\n",
    "    data[i+1] = A@B@data[i]"
   ]
  },
  {
   "cell_type": "code",
   "execution_count": 140,
   "metadata": {},
   "outputs": [],
   "source": [
    "class State:\n",
    "    def __init__(self, real, imag):\n",
    "        self.real = real\n",
    "        self.imag = imag\n",
    "        self.normalize()\n",
    "        self.prob = np.square(self.real) + np.square(self.imag)\n",
    "\n",
    "    # do something about the dx\n",
    "    def normalize(self):\n",
    "        norm = np.sqrt(np.sum((np.square(self.real)+np.square(self.imag))*dx))\n",
    "        self.real = self.real / norm\n",
    "        self.imag = self.imag / norm\n",
    "\n",
    "    def plot(self):\n",
    "        plt.figure()\n",
    "        plt.ylim(-1,1)\n",
    "        plt.plot(x,self.real,'r')\n",
    "        plt.plot(x,self.imag,'b')\n",
    "        plt.plot(x,self.prob,'g')\n",
    "        plt.show()\n",
    "\n",
    "    # do something about the path\n",
    "    def save(self, path, potential):\n",
    "        plt.figure()\n",
    "        plt.ylim(-1.5,2)\n",
    "        plt.plot(x, potential, 'k')\n",
    "        plt.plot(x,self.real,'r')\n",
    "        plt.plot(x,self.imag,'b')\n",
    "        plt.plot(x,self.prob,'g')\n",
    "        plt.savefig(f'pngstack/{path}.png')\n",
    "        plt.close()"
   ]
  },
  {
   "cell_type": "code",
   "execution_count": 141,
   "metadata": {},
   "outputs": [],
   "source": [
    "for i, state in enumerate(data):\n",
    "    if i <= T:\n",
    "        strength = np.sin(np.pi*i/(2*T))\n",
    "    if i%100 == 0:\n",
    "        V = l*(x**2-a**2)**2 + strength*pert\n",
    "        psi = State(state.real, state.imag)\n",
    "        psi.save(f'{i}', V)"
   ]
  },
  {
   "cell_type": "code",
   "execution_count": 5,
   "metadata": {},
   "outputs": [],
   "source": [
    "n, m = np.linalg.eigh(H)"
   ]
  },
  {
   "cell_type": "code",
   "execution_count": 6,
   "metadata": {},
   "outputs": [],
   "source": [
    "m = m.T"
   ]
  }
 ],
 "metadata": {
  "kernelspec": {
   "display_name": "sci",
   "language": "python",
   "name": "python3"
  },
  "language_info": {
   "codemirror_mode": {
    "name": "ipython",
    "version": 3
   },
   "file_extension": ".py",
   "mimetype": "text/x-python",
   "name": "python",
   "nbconvert_exporter": "python",
   "pygments_lexer": "ipython3",
   "version": "3.11.4"
  },
  "orig_nbformat": 4
 },
 "nbformat": 4,
 "nbformat_minor": 2
}
