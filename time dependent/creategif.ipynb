{
 "cells": [
  {
   "cell_type": "code",
   "execution_count": 4,
   "metadata": {},
   "outputs": [],
   "source": [
    "import os\n",
    "from PIL import Image\n",
    "import imageio"
   ]
  },
  {
   "cell_type": "code",
   "execution_count": 5,
   "metadata": {},
   "outputs": [],
   "source": [
    "def gif_to_video(gif_path, video_path, fps=24):\n",
    "    # Read the GIF\n",
    "    gif = imageio.get_reader(gif_path)\n",
    "\n",
    "    first_frame = gif.get_data(0)\n",
    "    height, width, channels = first_frame.shape\n",
    "    \n",
    "    # Get the GIF's metadata (e.g., width, height)\n",
    "    meta_data = gif.get_meta_data()\n",
    "    \n",
    "    # Create a video writer\n",
    "    video_writer = imageio.get_writer(video_path, fps=fps)\n",
    "    \n",
    "    # Iterate through the frames in the GIF and write them to the video\n",
    "    for frame in gif:\n",
    "\n",
    "        if frame.shape[2] != channels:\n",
    "            # If not, convert the frame to the same number of channels\n",
    "            frame = frame[:, :, :channels]\n",
    "\n",
    "        video_writer.append_data(frame)\n",
    "    \n",
    "    # Close the video writer\n",
    "    video_writer.close()"
   ]
  },
  {
   "cell_type": "code",
   "execution_count": 6,
   "metadata": {},
   "outputs": [],
   "source": [
    "folder = 'pngstack'\n",
    "\n",
    "file_names = [f for f in os.listdir(folder) if os.path.isfile(os.path.join(folder, f))]\n",
    "png_files = [f for f in file_names if f.lower().endswith(\".png\")]\n",
    "\n",
    "png_files = sorted(png_files, key=lambda x : float(x[:-4]))\n",
    "\n",
    "paths= []\n",
    "for png in png_files:\n",
    "    path = folder + '/' + png\n",
    "    paths.append(path)\n",
    "\n",
    "images = []\n",
    "for image_file in paths:\n",
    "    img = Image.open(image_file)\n",
    "    img = img.resize((912,912))\n",
    "    images.append(img)\n",
    "\n",
    "output_gif = \"output.gif\"\n",
    "images[0].save(output_gif, save_all=True, append_images=images[1:], duration=400, loop=0)\n",
    "\n",
    "\n",
    "\n",
    "gif_path = \"output.gif\"\n",
    "video_path = \"output.mp4\"\n",
    "\n",
    "gif_to_video(gif_path, video_path)\n"
   ]
  }
 ],
 "metadata": {
  "kernelspec": {
   "display_name": "sci",
   "language": "python",
   "name": "python3"
  },
  "language_info": {
   "codemirror_mode": {
    "name": "ipython",
    "version": 3
   },
   "file_extension": ".py",
   "mimetype": "text/x-python",
   "name": "python",
   "nbconvert_exporter": "python",
   "pygments_lexer": "ipython3",
   "version": "3.11.4"
  },
  "orig_nbformat": 4
 },
 "nbformat": 4,
 "nbformat_minor": 2
}
