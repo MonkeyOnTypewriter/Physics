{
 "cells": [
  {
   "cell_type": "code",
   "execution_count": 1,
   "metadata": {},
   "outputs": [],
   "source": [
    "import imageio"
   ]
  },
  {
   "cell_type": "code",
   "execution_count": 2,
   "metadata": {},
   "outputs": [
    {
     "name": "stderr",
     "output_type": "stream",
     "text": [
      "IMAGEIO FFMPEG_WRITER WARNING: input image is not divisible by macro_block_size=16, resizing from (900, 900) to (912, 912) to ensure video compatibility with most codecs and players. To prevent resizing, make your input image divisible by the macro_block_size or set the macro_block_size to 1 (risking incompatibility).\n"
     ]
    },
    {
     "ename": "ValueError",
     "evalue": "All images in a movie should have same number of channels",
     "output_type": "error",
     "traceback": [
      "\u001b[0;31m---------------------------------------------------------------------------\u001b[0m",
      "\u001b[0;31mValueError\u001b[0m                                Traceback (most recent call last)",
      "Cell \u001b[0;32mIn[2], line 22\u001b[0m\n\u001b[1;32m     19\u001b[0m gif_path \u001b[39m=\u001b[39m \u001b[39m\"\u001b[39m\u001b[39msickgif.gif\u001b[39m\u001b[39m\"\u001b[39m\n\u001b[1;32m     20\u001b[0m video_path \u001b[39m=\u001b[39m \u001b[39m\"\u001b[39m\u001b[39mvaryingpertsize.mp4\u001b[39m\u001b[39m\"\u001b[39m\n\u001b[0;32m---> 22\u001b[0m gif_to_video(gif_path, video_path)\n",
      "Cell \u001b[0;32mIn[2], line 13\u001b[0m, in \u001b[0;36mgif_to_video\u001b[0;34m(gif_path, video_path, fps)\u001b[0m\n\u001b[1;32m     11\u001b[0m \u001b[39m# Iterate through the frames in the GIF and write them to the video\u001b[39;00m\n\u001b[1;32m     12\u001b[0m \u001b[39mfor\u001b[39;00m frame \u001b[39min\u001b[39;00m gif:\n\u001b[0;32m---> 13\u001b[0m     video_writer\u001b[39m.\u001b[39;49mappend_data(frame)\n\u001b[1;32m     15\u001b[0m \u001b[39m# Close the video writer\u001b[39;00m\n\u001b[1;32m     16\u001b[0m video_writer\u001b[39m.\u001b[39mclose()\n",
      "File \u001b[0;32m~/miniconda3/envs/sci/lib/python3.11/site-packages/imageio/core/format.py:590\u001b[0m, in \u001b[0;36mFormat.Writer.append_data\u001b[0;34m(self, im, meta)\u001b[0m\n\u001b[1;32m    588\u001b[0m im \u001b[39m=\u001b[39m asarray(im)\n\u001b[1;32m    589\u001b[0m \u001b[39m# Call\u001b[39;00m\n\u001b[0;32m--> 590\u001b[0m \u001b[39mreturn\u001b[39;00m \u001b[39mself\u001b[39;49m\u001b[39m.\u001b[39;49m_append_data(im, total_meta)\n",
      "File \u001b[0;32m~/miniconda3/envs/sci/lib/python3.11/site-packages/imageio/plugins/ffmpeg.py:593\u001b[0m, in \u001b[0;36mFfmpegFormat.Writer._append_data\u001b[0;34m(self, im, meta)\u001b[0m\n\u001b[1;32m    591\u001b[0m     \u001b[39mraise\u001b[39;00m \u001b[39mValueError\u001b[39;00m(\u001b[39m\"\u001b[39m\u001b[39mAll images in a movie should have same size\u001b[39m\u001b[39m\"\u001b[39m)\n\u001b[1;32m    592\u001b[0m \u001b[39mif\u001b[39;00m depth \u001b[39m!=\u001b[39m \u001b[39mself\u001b[39m\u001b[39m.\u001b[39m_depth:\n\u001b[0;32m--> 593\u001b[0m     \u001b[39mraise\u001b[39;00m \u001b[39mValueError\u001b[39;00m(\n\u001b[1;32m    594\u001b[0m         \u001b[39m\"\u001b[39m\u001b[39mAll images in a movie should have same \u001b[39m\u001b[39m\"\u001b[39m \u001b[39m\"\u001b[39m\u001b[39mnumber of channels\u001b[39m\u001b[39m\"\u001b[39m\n\u001b[1;32m    595\u001b[0m     )\n\u001b[1;32m    597\u001b[0m \u001b[39massert\u001b[39;00m \u001b[39mself\u001b[39m\u001b[39m.\u001b[39m_write_gen \u001b[39mis\u001b[39;00m \u001b[39mnot\u001b[39;00m \u001b[39mNone\u001b[39;00m  \u001b[39m# Check status\u001b[39;00m\n\u001b[1;32m    599\u001b[0m \u001b[39m# Write. Yes, we can send the data in as a numpy array\u001b[39;00m\n",
      "\u001b[0;31mValueError\u001b[0m: All images in a movie should have same number of channels"
     ]
    }
   ],
   "source": [
    "def gif_to_video(gif_path, video_path, fps=24):\n",
    "    # Read the GIF\n",
    "    gif = imageio.get_reader(gif_path)\n",
    "    \n",
    "    # Get the GIF's metadata (e.g., width, height)\n",
    "    meta_data = gif.get_meta_data()\n",
    "    \n",
    "    # Create a video writer\n",
    "    video_writer = imageio.get_writer(video_path, fps=fps)\n",
    "    \n",
    "    # Iterate through the frames in the GIF and write them to the video\n",
    "    for frame in gif:\n",
    "        video_writer.append_data(frame)\n",
    "    \n",
    "    # Close the video writer\n",
    "    video_writer.close()\n",
    "\n",
    "\n",
    "gif_path = \"sickgif.gif\"\n",
    "video_path = \"varyingpertsize.mp4\"\n",
    "\n",
    "gif_to_video(gif_path, video_path)"
   ]
  }
 ],
 "metadata": {
  "kernelspec": {
   "display_name": "sci",
   "language": "python",
   "name": "python3"
  },
  "language_info": {
   "codemirror_mode": {
    "name": "ipython",
    "version": 3
   },
   "file_extension": ".py",
   "mimetype": "text/x-python",
   "name": "python",
   "nbconvert_exporter": "python",
   "pygments_lexer": "ipython3",
   "version": "3.11.4"
  },
  "orig_nbformat": 4
 },
 "nbformat": 4,
 "nbformat_minor": 2
}
